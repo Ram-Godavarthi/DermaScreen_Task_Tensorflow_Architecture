{
 "cells": [
  {
   "cell_type": "code",
   "execution_count": 23,
   "metadata": {},
   "outputs": [],
   "source": [
    "import tensorflow as tf\n",
    "import numpy as np"
   ]
  },
  {
   "cell_type": "code",
   "execution_count": 24,
   "metadata": {},
   "outputs": [],
   "source": [
    "x_data = np.array([[0,0],[0,1],[1,0],[1,1]])\n",
    "y_data = np.array([[0], [1], [1], [0]])"
   ]
  },
  {
   "cell_type": "code",
   "execution_count": 25,
   "metadata": {},
   "outputs": [],
   "source": [
    "n_input = 2\n",
    "n_hidden = 10\n",
    "n_output = 1\n",
    "epochs = 10000"
   ]
  },
  {
   "cell_type": "code",
   "execution_count": 26,
   "metadata": {},
   "outputs": [],
   "source": [
    "#set of weights and biases .. create some placeholders\n",
    "X = tf.placeholder(tf.float32)\n",
    "Y=  tf.placeholder(tf.float32)\n",
    "\n",
    "#weights\n",
    "W1 = tf.Variable(tf.random_uniform([n_input, n_hidden], -1.0, 1.0))\n",
    "W2 = tf.Variable(tf.random_uniform([n_hidden, n_output], -1.0, 1.0))\n",
    "\n",
    "#bias\n",
    "b1 = tf.Variable(tf.zeros([n_hidden]), name ='Bias1')\n",
    "b2 = tf.Variable(tf.zeros([n_output]), name ='Bias2')"
   ]
  },
  {
   "cell_type": "code",
   "execution_count": 27,
   "metadata": {},
   "outputs": [],
   "source": [
    "L2 = tf.sigmoid(tf.matmul(X, W1) + b1)\n",
    "hy = tf.sigmoid(tf.matmul(L2, W2) + b2)\n",
    "\n",
    "cost = tf.reduce_mean(-Y*tf.log(hy) -(1-Y)*tf.log(1-hy))\n",
    "optimizer = tf.train.GradientDescentOptimizer(learning_rate = 0.1).minimize(cost)\n",
    "\n",
    "init = tf.global_variables_initializer()"
   ]
  },
  {
   "cell_type": "code",
   "execution_count": 28,
   "metadata": {},
   "outputs": [
    {
     "name": "stdout",
     "output_type": "stream",
     "text": [
      "0.7947813\n",
      "0.6396316\n",
      "0.37296036\n",
      "0.11950617\n",
      "0.05305151\n",
      "0.031264044\n",
      "0.02137213\n",
      "0.015925955\n",
      "0.012544333\n",
      "0.010267385\n",
      "[array([[0.00505007],\n",
      "       [0.9919722 ],\n",
      "       [0.9910556 ],\n",
      "       [0.01239119]], dtype=float32)]\n",
      "Accuracy :  1.0\n"
     ]
    }
   ],
   "source": [
    "with tf.Session() as session:\n",
    "    session.run(init)\n",
    "    \n",
    "    for step in range(epochs):\n",
    "        session.run(optimizer, feed_dict = {X: x_data, Y: y_data})\n",
    "        \n",
    "        if step % 1000== 0:\n",
    "            print(session.run(cost, feed_dict= {X:x_data, Y: y_data}))\n",
    "            \n",
    "    answer = tf.equal(tf.floor(hy+0.5), Y)\n",
    "    accuracy = tf.reduce_mean(tf.cast(answer, 'float'))\n",
    "    \n",
    "    print(session.run([hy], feed_dict = {X:x_data, Y: y_data}))\n",
    "    print('Accuracy : ' ,accuracy.eval({X:x_data, Y: y_data}))\n",
    "    "
   ]
  },
  {
   "cell_type": "code",
   "execution_count": null,
   "metadata": {},
   "outputs": [],
   "source": []
  }
 ],
 "metadata": {
  "kernelspec": {
   "display_name": "Python 3",
   "language": "python",
   "name": "python3"
  },
  "language_info": {
   "codemirror_mode": {
    "name": "ipython",
    "version": 3
   },
   "file_extension": ".py",
   "mimetype": "text/x-python",
   "name": "python",
   "nbconvert_exporter": "python",
   "pygments_lexer": "ipython3",
   "version": "3.5.4"
  }
 },
 "nbformat": 4,
 "nbformat_minor": 2
}
